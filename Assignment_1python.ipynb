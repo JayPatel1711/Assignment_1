{
  "metadata": {
    "kernelspec": {
      "name": "python",
      "display_name": "Python (Pyodide)",
      "language": "python"
    },
    "language_info": {
      "codemirror_mode": {
        "name": "python",
        "version": 3
      },
      "file_extension": ".py",
      "mimetype": "text/x-python",
      "name": "python",
      "nbconvert_exporter": "python",
      "pygments_lexer": "ipython3",
      "version": "3.8"
    }
  },
  "nbformat_minor": 5,
  "nbformat": 4,
  "cells": [
    {
      "id": "cbc5c5f8-8201-4c00-a523-e9b52e42f023",
      "cell_type": "code",
      "source": "#Answer 1:\n#Keyword: 'def'\ndef get_odd_numbers():\n    odd_list = []\n    for num in range(1,26):\n        if num % 2 !=0:\n            odd_list.append(num)\n    return odd_list\nprint(get_odd_numbers())    ",
      "metadata": {
        "trusted": true
      },
      "outputs": [
        {
          "name": "stdout",
          "output_type": "stream",
          "text": "[1, 3, 5, 7, 9, 11, 13, 15, 17, 19, 21, 23, 25]\n"
        }
      ],
      "execution_count": 6
    },
    {
      "id": "3ac1c8c4-fdac-45bd-b90a-353ab3052f96",
      "cell_type": "code",
      "source": "#Answer 2:\n#*args : Used to pass variable number of non-keyword arguments to a function. It collects these arguments into a tuple.\n#**kwargs : Used to pass a variable number of keyword arguments to a function. It collects these arguments into dictionary\n#Example: *args\ndef sum_all(*args):\n    total = 0\n    for num in args:\n        total += num\n    return total\nprint(sum_all(1,2,3,4,5))",
      "metadata": {
        "trusted": true
      },
      "outputs": [
        {
          "name": "stdout",
          "output_type": "stream",
          "text": "15\n"
        }
      ],
      "execution_count": 7
    },
    {
      "id": "7599224a-8fe6-49b4-8361-f46e9b1e0015",
      "cell_type": "code",
      "source": "#Answer 3:\n#Iterator:An object that allows you to traverse through a collection of data,one element at a time.\n#Initialization method:iter()\n#Iteration method : next()\n#Example:\nmy_list = [2,4,6,8,10,12,14,16,18,20]\nmy_iterator = iter(my_list)\nfor _ in range(5):\n    print(next(my_iterator))",
      "metadata": {
        "trusted": true
      },
      "outputs": [
        {
          "name": "stdout",
          "output_type": "stream",
          "text": "2\n4\n6\n8\n10\n"
        }
      ],
      "execution_count": 8
    },
    {
      "id": "492fd07d-1fef-431c-9200-15115cf181eb",
      "cell_type": "code",
      "source": "#Answer 4:\n#Generator Function :A function that returns an iterator using the 'yield' keyword.It doesn't store all values in memory at once,generating them on demand.\n#'yield'keyword :Used to produce a value from the generator and pause the function's execution.It resumes from where it left the next time next() is called.\n#Example  : \ndef even_numbers(limit):\n    num = 0\n    while num <= limit:\n        yield num\n        num += 2\neven_gen = even_numbers(10)\nfor num in even_gen:\n    print(num)",
      "metadata": {
        "trusted": true
      },
      "outputs": [
        {
          "name": "stdout",
          "output_type": "stream",
          "text": "0\n2\n4\n6\n8\n10\n"
        }
      ],
      "execution_count": 9
    },
    {
      "id": "b5b8fc31-7970-450a-8001-a08c5c5e4394",
      "cell_type": "code",
      "source": "#Answer 5:\ndef is_prime(num):\n    if num <= 1:\n        return False\n    for i in range(2,int(num**0.5) + 1):\n        if num % i == 0:\n            return False\n    return True\ndef prime_generator(limit):\n    num = 2\n    while num < limit :\n        if is_prime(num):\n            yield num\n        num += 1\nprime_gen = prime_generator(1000)\nfor _ in range(20):\n    print(next(prime_gen))\n",
      "metadata": {
        "trusted": true
      },
      "outputs": [
        {
          "name": "stdout",
          "output_type": "stream",
          "text": "2\n3\n5\n7\n11\n13\n17\n19\n23\n29\n31\n37\n41\n43\n47\n53\n59\n61\n67\n71\n"
        }
      ],
      "execution_count": 11
    },
    {
      "id": "a3fea203-d033-4a11-bc61-06d240a1a9b6",
      "cell_type": "code",
      "source": "#Answer 6:print first 10 fibonacci numbers using a while loop.\na,b = 0,1\ncount = 0\n\nwhile count < 10:\n    print(a)\n    a,b = b,a+b\n    count += 1\n",
      "metadata": {
        "trusted": true
      },
      "outputs": [
        {
          "name": "stdout",
          "output_type": "stream",
          "text": "0\n1\n1\n2\n3\n5\n8\n13\n21\n34\n"
        }
      ],
      "execution_count": 12
    },
    {
      "id": "6e680b5b-42d8-4af6-842f-563ec0912cdf",
      "cell_type": "code",
      "source": "#Answer 7:\nstring = 'pwskills'\noutput = [char for char in string]\nprint(output)",
      "metadata": {
        "trusted": true
      },
      "outputs": [
        {
          "name": "stdout",
          "output_type": "stream",
          "text": "['p', 'w', 's', 'k', 'i', 'l', 'l', 's']\n"
        }
      ],
      "execution_count": 13
    },
    {
      "id": "eab73272-39f7-45ea-95d1-6955d9750f03",
      "cell_type": "code",
      "source": "#Answer 8:check whether a given number is palindrome or not using a while loop.\ndef is_palindrome(num):\n    original_num = num\n    reversed_num = 0\n\n    while num > 0:\n        digit = num % 10\n        reversed_num = reversed_num * 10 + digit\n        num //= 10\n    return original_num == reversed_num\nnumber = 12321\nif is_palindrome(number):\n    print(f\"{number} is a palindrome.\")\nelse:\n    print(f\"{number} is not a palindrome.\")",
      "metadata": {
        "trusted": true
      },
      "outputs": [
        {
          "name": "stdout",
          "output_type": "stream",
          "text": "12321 is a palindrome.\n"
        }
      ],
      "execution_count": 15
    },
    {
      "id": "af71bc96-01b3-4576-9e3c-32e439bff53f",
      "cell_type": "code",
      "source": "#Answer 9:\nnumbers = [num for num in range(1,101)]\nodd_numbers = [num for num in numbers if num % 2 != 0]\nprint(odd_numbers)",
      "metadata": {
        "trusted": true
      },
      "outputs": [
        {
          "name": "stdout",
          "output_type": "stream",
          "text": "[1, 3, 5, 7, 9, 11, 13, 15, 17, 19, 21, 23, 25, 27, 29, 31, 33, 35, 37, 39, 41, 43, 45, 47, 49, 51, 53, 55, 57, 59, 61, 63, 65, 67, 69, 71, 73, 75, 77, 79, 81, 83, 85, 87, 89, 91, 93, 95, 97, 99]\n"
        }
      ],
      "execution_count": 17
    }
  ]
}